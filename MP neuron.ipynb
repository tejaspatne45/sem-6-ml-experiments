{
 "cells": [
  {
   "cell_type": "code",
   "execution_count": 1,
   "id": "39c10e45",
   "metadata": {},
   "outputs": [],
   "source": [
    "import numpy as np"
   ]
  },
  {
   "cell_type": "code",
   "execution_count": 50,
   "id": "1b90a982",
   "metadata": {},
   "outputs": [
    {
     "name": "stdout",
     "output_type": "stream",
     "text": [
      "Input vector: [0 0 1] , Weight vector: [1 1 1]\n"
     ]
    }
   ],
   "source": [
    "np.random.seed(seed=4)\n",
    "I = np.random.randint(0,2,3)\n",
    "W = np.random.randint(1,2,3) #weights in mp neuron are always 1 for all edges i.e. no weighted edges\n",
    "print(f'Input vector: {I} , Weight vector: {W}')"
   ]
  },
  {
   "cell_type": "code",
   "execution_count": 51,
   "id": "f894b2b9",
   "metadata": {},
   "outputs": [],
   "source": [
    "def linear_threshold_gate(dot: int, T: float)->int:\n",
    "    if dot>=T:\n",
    "        return 1\n",
    "    else: \n",
    "        return 0"
   ]
  },
  {
   "cell_type": "code",
   "execution_count": 52,
   "id": "567d3e85",
   "metadata": {},
   "outputs": [
    {
     "name": "stdout",
     "output_type": "stream",
     "text": [
      "Activation: 1\n"
     ]
    }
   ],
   "source": [
    "activation = linear_threshold_gate(I@W, 1)\n",
    "print(f'Activation: {activation}')"
   ]
  },
  {
   "cell_type": "code",
   "execution_count": 53,
   "id": "a95d4046",
   "metadata": {},
   "outputs": [],
   "source": [
    "input_table = np.array([\n",
    "    np.random.randint(0,2,3) for i in range(0,9)\n",
    "])"
   ]
  },
  {
   "cell_type": "code",
   "execution_count": 54,
   "id": "19bcb33b",
   "metadata": {},
   "outputs": [
    {
     "data": {
      "text/plain": [
       "array([[1, 1, 0],\n",
       "       [1, 0, 0],\n",
       "       [1, 0, 0],\n",
       "       [1, 1, 0],\n",
       "       [1, 1, 1],\n",
       "       [0, 0, 0],\n",
       "       [0, 0, 0],\n",
       "       [0, 0, 1],\n",
       "       [0, 1, 1]])"
      ]
     },
     "execution_count": 54,
     "metadata": {},
     "output_type": "execute_result"
    }
   ],
   "source": [
    "input_table"
   ]
  },
  {
   "cell_type": "code",
   "execution_count": 55,
   "id": "a075704c",
   "metadata": {},
   "outputs": [],
   "source": [
    "def gate(input_table, weights, threshold):\n",
    "    for inputs in input_table:\n",
    "        activation = linear_threshold_gate(inputs @ weights, threshold)\n",
    "        print(f'inputs:{inputs} \\t weights:{weights} \\t activation:{activation}')"
   ]
  },
  {
   "cell_type": "code",
   "execution_count": 56,
   "id": "077de45a",
   "metadata": {},
   "outputs": [
    {
     "name": "stdout",
     "output_type": "stream",
     "text": [
      "OR gate\n",
      "inputs:[1 1 0] \t weights:[1 1 1] \t activation:1\n",
      "inputs:[1 0 0] \t weights:[1 1 1] \t activation:1\n",
      "inputs:[1 0 0] \t weights:[1 1 1] \t activation:1\n",
      "inputs:[1 1 0] \t weights:[1 1 1] \t activation:1\n",
      "inputs:[1 1 1] \t weights:[1 1 1] \t activation:1\n",
      "inputs:[0 0 0] \t weights:[1 1 1] \t activation:0\n",
      "inputs:[0 0 0] \t weights:[1 1 1] \t activation:0\n",
      "inputs:[0 0 1] \t weights:[1 1 1] \t activation:1\n",
      "inputs:[0 1 1] \t weights:[1 1 1] \t activation:1\n"
     ]
    }
   ],
   "source": [
    "print(\"OR gate\")\n",
    "gate(input_table, W, 1)"
   ]
  },
  {
   "cell_type": "code",
   "execution_count": 58,
   "id": "52ec08d9",
   "metadata": {},
   "outputs": [
    {
     "name": "stdout",
     "output_type": "stream",
     "text": [
      "AND gate\n",
      "inputs:[1 1 0] \t weights:[1 1 1] \t activation:0\n",
      "inputs:[1 0 0] \t weights:[1 1 1] \t activation:0\n",
      "inputs:[1 0 0] \t weights:[1 1 1] \t activation:0\n",
      "inputs:[1 1 0] \t weights:[1 1 1] \t activation:0\n",
      "inputs:[1 1 1] \t weights:[1 1 1] \t activation:1\n",
      "inputs:[0 0 0] \t weights:[1 1 1] \t activation:0\n",
      "inputs:[0 0 0] \t weights:[1 1 1] \t activation:0\n",
      "inputs:[0 0 1] \t weights:[1 1 1] \t activation:0\n",
      "inputs:[0 1 1] \t weights:[1 1 1] \t activation:0\n"
     ]
    }
   ],
   "source": [
    "print(\"AND gate\")\n",
    "gate(input_table, W, 3)"
   ]
  },
  {
   "cell_type": "code",
   "execution_count": 59,
   "id": "2a1cb6b3",
   "metadata": {},
   "outputs": [],
   "source": [
    "input_table = np.array([\n",
    "    np.random.randint(0,2,1) for i in range(0,4)\n",
    "])"
   ]
  },
  {
   "cell_type": "code",
   "execution_count": 60,
   "id": "e8b27c38",
   "metadata": {},
   "outputs": [
    {
     "data": {
      "text/plain": [
       "array([[1],\n",
       "       [1],\n",
       "       [0],\n",
       "       [1]])"
      ]
     },
     "execution_count": 60,
     "metadata": {},
     "output_type": "execute_result"
    }
   ],
   "source": [
    "input_table"
   ]
  },
  {
   "cell_type": "code",
   "execution_count": 64,
   "id": "993fe4f6",
   "metadata": {},
   "outputs": [
    {
     "name": "stdout",
     "output_type": "stream",
     "text": [
      "NOT gate\n",
      "inputs:[1] \t weights:[-1] \t activation:0\n",
      "inputs:[1] \t weights:[-1] \t activation:0\n",
      "inputs:[0] \t weights:[-1] \t activation:1\n",
      "inputs:[1] \t weights:[-1] \t activation:0\n"
     ]
    }
   ],
   "source": [
    "print(\"NOT gate\")\n",
    "gate(input_table, [-1], 0)"
   ]
  },
  {
   "cell_type": "code",
   "execution_count": null,
   "id": "7fef699c",
   "metadata": {},
   "outputs": [],
   "source": []
  }
 ],
 "metadata": {
  "kernelspec": {
   "display_name": "Python 3 (ipykernel)",
   "language": "python",
   "name": "python3"
  },
  "language_info": {
   "codemirror_mode": {
    "name": "ipython",
    "version": 3
   },
   "file_extension": ".py",
   "mimetype": "text/x-python",
   "name": "python",
   "nbconvert_exporter": "python",
   "pygments_lexer": "ipython3",
   "version": "3.9.13"
  }
 },
 "nbformat": 4,
 "nbformat_minor": 5
}

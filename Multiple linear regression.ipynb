{
 "cells": [
  {
   "cell_type": "code",
   "execution_count": 1,
   "id": "069f3024",
   "metadata": {},
   "outputs": [],
   "source": [
    "import numpy as np\n",
    "import matplotlib.pyplot as plt\n",
    "import pandas as pd\n",
    "from sklearn.model_selection import train_test_split\n",
    "from sklearn.compose import ColumnTransformer\n",
    "from sklearn.preprocessing import OneHotEncoder\n",
    "from sklearn.linear_model import LinearRegression\n",
    "from sklearn.linear_model import Ridge\n",
    "from sklearn.linear_model import Lasso\n",
    "from sklearn.metrics import r2_score"
   ]
  },
  {
   "cell_type": "code",
   "execution_count": 2,
   "id": "e652f067",
   "metadata": {},
   "outputs": [],
   "source": [
    "dataset = pd.read_csv('50_Startups.csv')\n",
    "X = dataset.iloc[:, :-1].values\n",
    "y = dataset.iloc[:, -1].values"
   ]
  },
  {
   "cell_type": "code",
   "execution_count": 3,
   "id": "e8231b42",
   "metadata": {},
   "outputs": [],
   "source": [
    "#print(X)"
   ]
  },
  {
   "cell_type": "code",
   "execution_count": 4,
   "id": "281a2171",
   "metadata": {},
   "outputs": [],
   "source": [
    "ct = ColumnTransformer(transformers=[('encoder', OneHotEncoder(), [3])], remainder='passthrough')\n",
    "X = np.array(ct.fit_transform(X))"
   ]
  },
  {
   "cell_type": "code",
   "execution_count": 5,
   "id": "49221617",
   "metadata": {},
   "outputs": [],
   "source": [
    "#print(X)"
   ]
  },
  {
   "cell_type": "code",
   "execution_count": 6,
   "id": "3e3a0f16",
   "metadata": {},
   "outputs": [],
   "source": [
    "X_train, X_test, y_train, y_test = train_test_split(X, y, test_size = 0.2, random_state = 0)"
   ]
  },
  {
   "cell_type": "code",
   "execution_count": 7,
   "id": "d60b7ec1",
   "metadata": {},
   "outputs": [
    {
     "data": {
      "text/plain": [
       "LinearRegression()"
      ]
     },
     "execution_count": 7,
     "metadata": {},
     "output_type": "execute_result"
    }
   ],
   "source": [
    "regressor = LinearRegression()\n",
    "regressor.fit(X_train, y_train)"
   ]
  },
  {
   "cell_type": "code",
   "execution_count": 8,
   "id": "39bc006b",
   "metadata": {},
   "outputs": [],
   "source": [
    "y_train_pred = regressor.predict(X_train)\n",
    "np.set_printoptions(precision=2)\n",
    "#print(np.concatenate((y_train_pred.reshape(len(y_train_pred),1), y_train.reshape(len(y_train),1)),1))"
   ]
  },
  {
   "cell_type": "code",
   "execution_count": 9,
   "id": "daaf28d7",
   "metadata": {},
   "outputs": [
    {
     "name": "stdout",
     "output_type": "stream",
     "text": [
      "0.9501847627493607\n"
     ]
    }
   ],
   "source": [
    "print(r2_score(y_train, y_train_pred))"
   ]
  },
  {
   "cell_type": "code",
   "execution_count": 10,
   "id": "6c7769d8",
   "metadata": {},
   "outputs": [],
   "source": [
    "y_test_pred = regressor.predict(X_test)\n",
    "np.set_printoptions(precision=2)\n",
    "#print(np.concatenate((y_test_pred.reshape(len(y_test_pred),1), y_test.reshape(len(y_test),1)),1))"
   ]
  },
  {
   "cell_type": "code",
   "execution_count": 11,
   "id": "af55df2e",
   "metadata": {},
   "outputs": [
    {
     "name": "stdout",
     "output_type": "stream",
     "text": [
      "0.9347068473282567\n"
     ]
    }
   ],
   "source": [
    "print(r2_score(y_test, y_test_pred))"
   ]
  },
  {
   "cell_type": "markdown",
   "id": "62e8e346",
   "metadata": {},
   "source": [
    "This is case of overfitting as training accuracy is higher than test accuracy"
   ]
  },
  {
   "cell_type": "code",
   "execution_count": 12,
   "id": "c69871f4",
   "metadata": {},
   "outputs": [],
   "source": [
    "ridge_regressor = Ridge()"
   ]
  },
  {
   "cell_type": "code",
   "execution_count": 13,
   "id": "3e352cdf",
   "metadata": {},
   "outputs": [
    {
     "data": {
      "text/plain": [
       "Ridge()"
      ]
     },
     "execution_count": 13,
     "metadata": {},
     "output_type": "execute_result"
    }
   ],
   "source": [
    "ridge_regressor.fit(X_train, y_train)"
   ]
  },
  {
   "cell_type": "code",
   "execution_count": 14,
   "id": "faf2ba80",
   "metadata": {},
   "outputs": [],
   "source": [
    "y_train_pred_ridge = ridge_regressor.predict(X_train)\n",
    "np.set_printoptions(precision=2)\n",
    "#print(np.concatenate((y_train_pred_ridge.reshape(len(y_train_pred_ridge),1), y_train.reshape(len(y_train),1)),1))"
   ]
  },
  {
   "cell_type": "code",
   "execution_count": 15,
   "id": "80d68de9",
   "metadata": {},
   "outputs": [
    {
     "name": "stdout",
     "output_type": "stream",
     "text": [
      "0.9501831053064728\n"
     ]
    }
   ],
   "source": [
    "print(r2_score(y_train, y_train_pred_ridge))"
   ]
  },
  {
   "cell_type": "code",
   "execution_count": 16,
   "id": "667b8571",
   "metadata": {},
   "outputs": [],
   "source": [
    "y_test_pred_ridge = ridge_regressor.predict(X_test)\n",
    "np.set_printoptions(precision=2)\n",
    "#print(np.concatenate((y_test_pred_ridge.reshape(len(y_test_pred_ridge),1), y_test.reshape(len(y_test),1)),1))"
   ]
  },
  {
   "cell_type": "code",
   "execution_count": 17,
   "id": "223b6f16",
   "metadata": {},
   "outputs": [
    {
     "name": "stdout",
     "output_type": "stream",
     "text": [
      "0.9351576443668748\n"
     ]
    }
   ],
   "source": [
    "print(r2_score(y_test, y_test_pred_ridge))"
   ]
  },
  {
   "cell_type": "code",
   "execution_count": 18,
   "id": "33c544ad",
   "metadata": {},
   "outputs": [],
   "source": [
    "lasso_regressor = Lasso()"
   ]
  },
  {
   "cell_type": "code",
   "execution_count": 19,
   "id": "59602f13",
   "metadata": {},
   "outputs": [
    {
     "data": {
      "text/plain": [
       "Lasso()"
      ]
     },
     "execution_count": 19,
     "metadata": {},
     "output_type": "execute_result"
    }
   ],
   "source": [
    "lasso_regressor.fit(X_train, y_train)"
   ]
  },
  {
   "cell_type": "code",
   "execution_count": 20,
   "id": "36320d35",
   "metadata": {},
   "outputs": [],
   "source": [
    "y_train_pred_lasso = lasso_regressor.predict(X_train)\n",
    "np.set_printoptions(precision=2)\n",
    "#print(np.concatenate((y_train_pred_lasso.reshape(len(y_train_pred_lasso),1), y_train.reshape(len(y_train),1)),1))"
   ]
  },
  {
   "cell_type": "code",
   "execution_count": 21,
   "id": "728e1b6d",
   "metadata": {},
   "outputs": [
    {
     "name": "stdout",
     "output_type": "stream",
     "text": [
      "0.9501847582393986\n"
     ]
    }
   ],
   "source": [
    "print(r2_score(y_train, y_train_pred_lasso))"
   ]
  },
  {
   "cell_type": "code",
   "execution_count": 22,
   "id": "e5d77716",
   "metadata": {},
   "outputs": [],
   "source": [
    "y_test_pred_lasso = lasso_regressor.predict(X_test)\n",
    "np.set_printoptions(precision=2)\n",
    "#print(np.concatenate((y_test_pred_lasso.reshape(len(y_test_pred_lasso),1), y_test.reshape(len(y_test),1)),1))"
   ]
  },
  {
   "cell_type": "code",
   "execution_count": 23,
   "id": "63780c88",
   "metadata": {},
   "outputs": [
    {
     "name": "stdout",
     "output_type": "stream",
     "text": [
      "0.9347305068077534\n"
     ]
    }
   ],
   "source": [
    "print(r2_score(y_test, y_test_pred_lasso))"
   ]
  }
 ],
 "metadata": {
  "kernelspec": {
   "display_name": "Python 3 (ipykernel)",
   "language": "python",
   "name": "python3"
  },
  "language_info": {
   "codemirror_mode": {
    "name": "ipython",
    "version": 3
   },
   "file_extension": ".py",
   "mimetype": "text/x-python",
   "name": "python",
   "nbconvert_exporter": "python",
   "pygments_lexer": "ipython3",
   "version": "3.9.13"
  }
 },
 "nbformat": 4,
 "nbformat_minor": 5
}

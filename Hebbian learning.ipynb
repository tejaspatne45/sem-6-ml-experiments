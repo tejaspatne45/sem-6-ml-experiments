{
 "cells": [
  {
   "cell_type": "code",
   "execution_count": 26,
   "id": "9a1b97c1",
   "metadata": {},
   "outputs": [],
   "source": [
    "def hebbian_learning(samples):\n",
    "     print(f'{\"INPUT\":^8} {\"TARGET\":^16}{\"WEIGHT CHANGES\":^15}{\"WEIGHTS\":^25}')\n",
    "     w1, w2, b = 0, 0, 0\n",
    "     print(' ' * 45, f'({w1:2}, {w2:2}, {b:2})')\n",
    "     for x1, x2, y in samples:\n",
    "         w1 = w1 + x1 * y\n",
    "         w2 = w2 + x2 * y\n",
    "         b = b + y\n",
    "         print(f'({x1:2}, {x2:2}) \\t {y:2} \\t ({x1*y:2}, {x2*y:2}, {y:2}) \\t{\" \":^5} ({w1:2}, {w2:2}, {b:2})')"
   ]
  },
  {
   "cell_type": "code",
   "execution_count": 27,
   "id": "7e3551fa",
   "metadata": {},
   "outputs": [],
   "source": [
    "AND_samples = {\n",
    "    'binary_input_binary_output': [\n",
    "        [1, 1, 1],\n",
    "        [1, 0, 0],\n",
    "        [0, 1, 0],\n",
    "        [0, 0, 0]\n",
    "    ],\n",
    "    'binary_input_bipolar_output': [\n",
    "        [1, 1, 1],\n",
    "        [1, 0, -1],\n",
    "        [0, 1, -1],\n",
    "        [0, 0, -1]\n",
    "    ],\n",
    "    'bipolar_input_bipolar_output': [\n",
    "        [ 1, 1, 1],\n",
    "        [ 1, -1, -1],\n",
    "        [-1, 1, -1],\n",
    "        [-1, -1, -1]\n",
    "    ]\n",
    "}"
   ]
  },
  {
   "cell_type": "code",
   "execution_count": 28,
   "id": "7eaafbee",
   "metadata": {},
   "outputs": [],
   "source": [
    "OR_samples = {\n",
    "    'binary_input_binary_output': [\n",
    "        [1, 1, 1],\n",
    "        [1, 0, 1],\n",
    "        [0, 1, 1],\n",
    "        [0, 0, 0]\n",
    "    ],\n",
    "    'binary_input_bipolar_output': [\n",
    "        [1, 1, 1],\n",
    "        [1, 0, 1],\n",
    "        [0, 1, 1],\n",
    "        [0, 0, -1]\n",
    "    ],\n",
    "    'bipolar_input_bipolar_output': [\n",
    "        [ 1, 1, 1],\n",
    "        [ 1, -1, 1],\n",
    "        [-1, 1, 1],\n",
    "        [-1, -1, -1]\n",
    "    ]\n",
    "}"
   ]
  },
  {
   "cell_type": "code",
   "execution_count": 29,
   "id": "4f361c04",
   "metadata": {},
   "outputs": [],
   "source": [
    "XOR_samples = {\n",
    "    'binary_input_binary_output': [\n",
    "        [1, 1, 0],\n",
    "        [1, 0, 1],\n",
    "        [0, 1, 1],\n",
    "        [0, 0, 0]\n",
    "    ],\n",
    "    'binary_input_bipolar_output': [\n",
    "        [1, 1, -1],\n",
    "        [1, 0, 1],\n",
    "        [0, 1, 1],\n",
    "        [0, 0, -1]\n",
    "    ],\n",
    "    'bipolar_input_bipolar_output': [\n",
    "        [ 1, 1, -1],\n",
    "        [ 1, -1, 1],\n",
    "        [-1, 1, 1],\n",
    "        [-1, -1, -1]\n",
    "    ]\n",
    "}"
   ]
  },
  {
   "cell_type": "code",
   "execution_count": 30,
   "id": "8c70c048",
   "metadata": {},
   "outputs": [
    {
     "name": "stdout",
     "output_type": "stream",
     "text": [
      "-------------------- HEBBIAN LEARNING --------------------\n",
      "AND with Binary Input and Binary Output\n",
      " INPUT        TARGET     WEIGHT CHANGES          WEIGHTS         \n",
      "                                              ( 0,  0,  0)\n",
      "( 1,  1) \t  1 \t ( 1,  1,  1) \t      ( 1,  1,  1)\n",
      "( 1,  0) \t  0 \t ( 0,  0,  0) \t      ( 1,  1,  1)\n",
      "( 0,  1) \t  0 \t ( 0,  0,  0) \t      ( 1,  1,  1)\n",
      "( 0,  0) \t  0 \t ( 0,  0,  0) \t      ( 1,  1,  1)\n",
      "AND with Binary Input and Bipolar Output\n",
      " INPUT        TARGET     WEIGHT CHANGES          WEIGHTS         \n",
      "                                              ( 0,  0,  0)\n",
      "( 1,  1) \t  1 \t ( 1,  1,  1) \t      ( 1,  1,  1)\n",
      "( 1,  0) \t -1 \t (-1,  0, -1) \t      ( 0,  1,  0)\n",
      "( 0,  1) \t -1 \t ( 0, -1, -1) \t      ( 0,  0, -1)\n",
      "( 0,  0) \t -1 \t ( 0,  0, -1) \t      ( 0,  0, -2)\n",
      "AND with Bipolar Input and Bipolar Output\n",
      " INPUT        TARGET     WEIGHT CHANGES          WEIGHTS         \n",
      "                                              ( 0,  0,  0)\n",
      "( 1,  1) \t  1 \t ( 1,  1,  1) \t      ( 1,  1,  1)\n",
      "( 1, -1) \t -1 \t (-1,  1, -1) \t      ( 0,  2,  0)\n",
      "(-1,  1) \t -1 \t ( 1, -1, -1) \t      ( 1,  1, -1)\n",
      "(-1, -1) \t -1 \t ( 1,  1, -1) \t      ( 2,  2, -2)\n"
     ]
    }
   ],
   "source": [
    "print('-'*20, 'HEBBIAN LEARNING', '-'*20)\n",
    "print('AND with Binary Input and Binary Output')\n",
    "hebbian_learning(AND_samples['binary_input_binary_output'])\n",
    "print('AND with Binary Input and Bipolar Output')\n",
    "hebbian_learning(AND_samples['binary_input_bipolar_output'])\n",
    "print('AND with Bipolar Input and Bipolar Output')\n",
    "hebbian_learning(AND_samples['bipolar_input_bipolar_output'])"
   ]
  },
  {
   "cell_type": "code",
   "execution_count": 31,
   "id": "d1b486c5",
   "metadata": {},
   "outputs": [
    {
     "name": "stdout",
     "output_type": "stream",
     "text": [
      "-------------------- HEBBIAN LEARNING --------------------\n",
      "OR with binary input and binary output\n",
      " INPUT        TARGET     WEIGHT CHANGES          WEIGHTS         \n",
      "                                              ( 0,  0,  0)\n",
      "( 1,  1) \t  1 \t ( 1,  1,  1) \t      ( 1,  1,  1)\n",
      "( 1,  0) \t  1 \t ( 1,  0,  1) \t      ( 2,  1,  2)\n",
      "( 0,  1) \t  1 \t ( 0,  1,  1) \t      ( 2,  2,  3)\n",
      "( 0,  0) \t  0 \t ( 0,  0,  0) \t      ( 2,  2,  3)\n",
      "OR with binary input and bipolar output\n",
      " INPUT        TARGET     WEIGHT CHANGES          WEIGHTS         \n",
      "                                              ( 0,  0,  0)\n",
      "( 1,  1) \t  1 \t ( 1,  1,  1) \t      ( 1,  1,  1)\n",
      "( 1,  0) \t  1 \t ( 1,  0,  1) \t      ( 2,  1,  2)\n",
      "( 0,  1) \t  1 \t ( 0,  1,  1) \t      ( 2,  2,  3)\n",
      "( 0,  0) \t -1 \t ( 0,  0, -1) \t      ( 2,  2,  2)\n",
      "OR with bipolar input and bipolar output\n",
      " INPUT        TARGET     WEIGHT CHANGES          WEIGHTS         \n",
      "                                              ( 0,  0,  0)\n",
      "( 1,  1) \t  1 \t ( 1,  1,  1) \t      ( 1,  1,  1)\n",
      "( 1, -1) \t  1 \t ( 1, -1,  1) \t      ( 2,  0,  2)\n",
      "(-1,  1) \t  1 \t (-1,  1,  1) \t      ( 1,  1,  3)\n",
      "(-1, -1) \t -1 \t ( 1,  1, -1) \t      ( 2,  2,  2)\n"
     ]
    }
   ],
   "source": [
    "print('-'*20, 'HEBBIAN LEARNING', '-'*20)\n",
    "print('OR with binary input and binary output')\n",
    "hebbian_learning(OR_samples['binary_input_binary_output'])\n",
    "print('OR with binary input and bipolar output')\n",
    "hebbian_learning(OR_samples['binary_input_bipolar_output'])\n",
    "print('OR with bipolar input and bipolar output')\n",
    "hebbian_learning(OR_samples['bipolar_input_bipolar_output'])"
   ]
  },
  {
   "cell_type": "code",
   "execution_count": 32,
   "id": "77f3073c",
   "metadata": {},
   "outputs": [
    {
     "name": "stdout",
     "output_type": "stream",
     "text": [
      "-------------------- HEBBIAN LEARNING --------------------\n",
      "XOR with binary input and binary output\n",
      " INPUT        TARGET     WEIGHT CHANGES          WEIGHTS         \n",
      "                                              ( 0,  0,  0)\n",
      "( 1,  1) \t  0 \t ( 0,  0,  0) \t      ( 0,  0,  0)\n",
      "( 1,  0) \t  1 \t ( 1,  0,  1) \t      ( 1,  0,  1)\n",
      "( 0,  1) \t  1 \t ( 0,  1,  1) \t      ( 1,  1,  2)\n",
      "( 0,  0) \t  0 \t ( 0,  0,  0) \t      ( 1,  1,  2)\n",
      "XOR with binary input and bipolar output\n",
      " INPUT        TARGET     WEIGHT CHANGES          WEIGHTS         \n",
      "                                              ( 0,  0,  0)\n",
      "( 1,  1) \t -1 \t (-1, -1, -1) \t      (-1, -1, -1)\n",
      "( 1,  0) \t  1 \t ( 1,  0,  1) \t      ( 0, -1,  0)\n",
      "( 0,  1) \t  1 \t ( 0,  1,  1) \t      ( 0,  0,  1)\n",
      "( 0,  0) \t -1 \t ( 0,  0, -1) \t      ( 0,  0,  0)\n",
      "XOR with bipolar input and bipolar output\n",
      " INPUT        TARGET     WEIGHT CHANGES          WEIGHTS         \n",
      "                                              ( 0,  0,  0)\n",
      "( 1,  1) \t -1 \t (-1, -1, -1) \t      (-1, -1, -1)\n",
      "( 1, -1) \t  1 \t ( 1, -1,  1) \t      ( 0, -2,  0)\n",
      "(-1,  1) \t  1 \t (-1,  1,  1) \t      (-1, -1,  1)\n",
      "(-1, -1) \t -1 \t ( 1,  1, -1) \t      ( 0,  0,  0)\n"
     ]
    }
   ],
   "source": [
    "print('-'*20, 'HEBBIAN LEARNING', '-'*20)\n",
    "print('XOR with binary input and binary output')\n",
    "hebbian_learning(XOR_samples['binary_input_binary_output'])\n",
    "print('XOR with binary input and bipolar output')\n",
    "hebbian_learning(XOR_samples['binary_input_bipolar_output'])\n",
    "print('XOR with bipolar input and bipolar output')\n",
    "hebbian_learning(XOR_samples['bipolar_input_bipolar_output'])"
   ]
  },
  {
   "cell_type": "code",
   "execution_count": null,
   "id": "bc533d18",
   "metadata": {},
   "outputs": [],
   "source": []
  }
 ],
 "metadata": {
  "kernelspec": {
   "display_name": "Python 3 (ipykernel)",
   "language": "python",
   "name": "python3"
  },
  "language_info": {
   "codemirror_mode": {
    "name": "ipython",
    "version": 3
   },
   "file_extension": ".py",
   "mimetype": "text/x-python",
   "name": "python",
   "nbconvert_exporter": "python",
   "pygments_lexer": "ipython3",
   "version": "3.9.13"
  }
 },
 "nbformat": 4,
 "nbformat_minor": 5
}

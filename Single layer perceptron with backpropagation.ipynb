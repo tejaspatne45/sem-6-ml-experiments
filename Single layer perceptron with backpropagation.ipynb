{
 "cells": [
  {
   "cell_type": "code",
   "execution_count": 1,
   "id": "b3d4103d",
   "metadata": {},
   "outputs": [],
   "source": [
    "import numpy as np"
   ]
  },
  {
   "cell_type": "code",
   "execution_count": 2,
   "id": "7e0f9ec4",
   "metadata": {},
   "outputs": [],
   "source": [
    "class Perceptron:\n",
    "\n",
    "    def __init__(self, input_dim, output_dim):\n",
    "        self.weights = np.random.rand(output_dim, input_dim)\n",
    "        print(self.weights)\n",
    "        self.bias = np.random.rand(output_dim, 1)\n",
    "        print(self.bias)\n",
    "    \n",
    "    def sigmoid_activation(self, x):\n",
    "        return 1/(1+np.exp(-x))\n",
    "\n",
    "    def sigmoid_derivative(self, x):\n",
    "        return x*(1-x)\n",
    "    \n",
    "    def forward_pass(self, x):\n",
    "        summation = np.dot(self.weights, x) + self.bias\n",
    "        # print(\"summation\", summation)\n",
    "        return self.sigmoid_activation(summation)\n",
    "\n",
    "    def backpropogation(self, x, y, output):\n",
    "        error = y-output\n",
    "        d_outputs = error*self.sigmoid_derivative(output)\n",
    "        d_weights = np.dot(d_outputs, x.T)\n",
    "        d_bias = np.sum(d_outputs, axis=1, keepdims=True)\n",
    "        self.weights +=d_weights\n",
    "        self.bias += d_bias\n",
    "\n",
    "    def train(self, X, Y, epochs=500):\n",
    "        for epoch in range(epochs):\n",
    "            for x, y in zip(X, Y):\n",
    "                output = self.forward_pass(x.reshape(-1, 1))\n",
    "                self.backpropogation(x.reshape(-1, 1), y.reshape(-1, 1), output)\n",
    "\n",
    "    def predict(self, x):\n",
    "        return self.forward_pass(x.reshape(-1, 1))"
   ]
  },
  {
   "cell_type": "code",
   "execution_count": 3,
   "id": "20b66d5f",
   "metadata": {},
   "outputs": [],
   "source": [
    "# .OR gate datset\n",
    "X = np.array([[0, 0],[0, 1],[1, 0],[1, 1]])\n",
    "Y = np.array([0, 1, 1, 1])"
   ]
  },
  {
   "cell_type": "code",
   "execution_count": 4,
   "id": "6bf2bb12",
   "metadata": {},
   "outputs": [
    {
     "name": "stdout",
     "output_type": "stream",
     "text": [
      "[[0.68778879 0.51986522]]\n",
      "[[0.90810107]]\n"
     ]
    }
   ],
   "source": [
    "perceptron = Perceptron(2, 1)\n",
    "perceptron.train(X, Y)"
   ]
  },
  {
   "cell_type": "code",
   "execution_count": 5,
   "id": "83ce58f9",
   "metadata": {},
   "outputs": [
    {
     "name": "stdout",
     "output_type": "stream",
     "text": [
      "[[0.08054066]]\n",
      "[[0.9503766]]\n",
      "[[0.99976021]]\n"
     ]
    }
   ],
   "source": [
    "print(perceptron.predict(np.array([0,0])))\n",
    "print(perceptron.predict(np.array([0,1])))\n",
    "print(perceptron.predict(np.array([1,1])))"
   ]
  },
  {
   "cell_type": "code",
   "execution_count": null,
   "id": "ee15cfd5",
   "metadata": {},
   "outputs": [],
   "source": []
  }
 ],
 "metadata": {
  "kernelspec": {
   "display_name": "Python 3 (ipykernel)",
   "language": "python",
   "name": "python3"
  },
  "language_info": {
   "codemirror_mode": {
    "name": "ipython",
    "version": 3
   },
   "file_extension": ".py",
   "mimetype": "text/x-python",
   "name": "python",
   "nbconvert_exporter": "python",
   "pygments_lexer": "ipython3",
   "version": "3.9.13"
  }
 },
 "nbformat": 4,
 "nbformat_minor": 5
}
